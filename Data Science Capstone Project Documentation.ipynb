{
 "cells": [
  {
   "cell_type": "markdown",
   "metadata": {},
   "source": [
    "## Capstone Project - The Battle of Neighborhood"
   ]
  },
  {
   "cell_type": "markdown",
   "metadata": {},
   "source": [
    "<h2>Opening a Restaurant in New York</h2>"
   ]
  },
  {
   "cell_type": "markdown",
   "metadata": {},
   "source": [
    "<h3>INTRODUCTION</h3>"
   ]
  },
  {
   "cell_type": "markdown",
   "metadata": {},
   "source": [
    "<p>This project is about whether you would recommend anyone to open a Restaurant in New York City. As we know New York is one of the well developed city in the UNITED STATES OF AMERICA, and also New York is well populated and developed city, so competition is bit high. So in that city if anyone opens a restaurant, can he sustain in that competetion or else where can someone opens his restaurant which helps someone to get higher profits. So from my analysis i would to like to give a brief to someone who wanted to open a restaurant in New York City about all the positives and negatives (ie. all the insights) of opening that restaurant at that particular place.</p>"
   ]
  },
  {
   "cell_type": "markdown",
   "metadata": {},
   "source": [
    "<h3>DATA</h3>"
   ]
  },
  {
   "cell_type": "markdown",
   "metadata": {},
   "source": [
    "<p>Inorder to attain this goal, i need the latitudes & longitudes of all the places in the New York City, so that i can brief about various things. I got a dataset from where it contains a 5 Boroughs and its Neighbourhoods of New York city. So that with the help of that Data i would like to find the Latitude and Longitude of that Boroughs and then by using Four Square API i would like to find all the respective Borough Surroundings ie. all the venues around the Boroughs and then from the surroundings and then analyze the restaurants around those places and their feedback which would be helpul to achieve my goal.</p>\n",
    "<p>Four Square API is one which provides the venues and tips and feedback from customers around the given latitudes and longitudes which you have mentioned. Then I used the acquired location data to explore the nearby restaurants from the Foursquare API. Using the \"explore\" option, I look for top restaurants in 10 km radius for each city center and I get \"Venue\", \"Venue Latitude\", \"Venue Longitude\" and \"Venue Category\" columns with 3316 row in total.</p>"
   ]
  }
 ],
 "metadata": {
  "kernelspec": {
   "display_name": "Python 3",
   "language": "python",
   "name": "python3"
  },
  "language_info": {
   "codemirror_mode": {
    "name": "ipython",
    "version": 3
   },
   "file_extension": ".py",
   "mimetype": "text/x-python",
   "name": "python",
   "nbconvert_exporter": "python",
   "pygments_lexer": "ipython3",
   "version": "3.7.6"
  }
 },
 "nbformat": 4,
 "nbformat_minor": 4
}
